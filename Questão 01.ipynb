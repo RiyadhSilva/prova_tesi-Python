{
 "cells": [
  {
   "cell_type": "code",
   "execution_count": 8,
   "metadata": {},
   "outputs": [],
   "source": [
    "import requests\n",
    "from bs4 import BeautifulSoup"
   ]
  },
  {
   "cell_type": "code",
   "execution_count": 9,
   "metadata": {},
   "outputs": [],
   "source": [
    "def download(url, num_retries=2):\n",
    "    print('Downloading:', url)\n",
    "    page = None\n",
    "    try:\n",
    "        response = requests.get(url)\n",
    "        page = response.text\n",
    "        if response.status_code >= 400:\n",
    "            print('Download error: ', response.text)\n",
    "            return download(url, num_retries - 1)\n",
    "    except requests.exceptions.RequestException as e:\n",
    "        print('Download error: ', e.reason)\n",
    "    return page"
   ]
  },
  {
   "cell_type": "code",
   "execution_count": 14,
   "metadata": {},
   "outputs": [
    {
     "name": "stdout",
     "output_type": "stream",
     "text": [
      "Insira o nome desejado: levi\n"
     ]
    }
   ],
   "source": [
    "nome = input('Insira o nome desejado: ')"
   ]
  },
  {
   "cell_type": "code",
   "execution_count": 15,
   "metadata": {},
   "outputs": [
    {
     "name": "stdout",
     "output_type": "stream",
     "text": [
      "Downloading: https://servicodados.ibge.gov.br/api/v1/censos/nomes/basica?nome=levi&sexo=m\n"
     ]
    }
   ],
   "source": [
    "page = download('https://servicodados.ibge.gov.br/api/v1/censos/nomes/basica?nome=%s&sexo=m'%nome)"
   ]
  },
  {
   "cell_type": "code",
   "execution_count": 16,
   "metadata": {},
   "outputs": [],
   "source": [
    "soup = BeautifulSoup(page, 'html.parser')"
   ]
  },
  {
   "cell_type": "code",
   "execution_count": 20,
   "metadata": {},
   "outputs": [
    {
     "name": "stdout",
     "output_type": "stream",
     "text": [
      "[{\"rank\":307,\"nome\":\"LEVI\",\"freq\":35145,\"percentual\":0.0192,\"ufMax\":\"Ceará\",\"ufMaxProp\":\"52,5177\",\"regiao\":0,\"sexo\":\"M\",\"nomes\":\"ALEVI,ALEVIR,ELEVI,ELEVIR,LEVIR,LEVY,LEVYR,OLEVI,OLEVIR\"}]\n"
     ]
    }
   ],
   "source": [
    "print(soup)"
   ]
  },
  {
   "cell_type": "code",
   "execution_count": 32,
   "metadata": {},
   "outputs": [],
   "source": [
    "import re\n",
    "data = soup.get_text()"
   ]
  },
  {
   "cell_type": "code",
   "execution_count": 84,
   "metadata": {},
   "outputs": [
    {
     "data": {
      "text/plain": [
       "'\"ALEVI,ALEVIR,ELEVI,ELEVIR,LEVIR,LEVY,LEVYR,OLEVI,OLEVIR\"'"
      ]
     },
     "execution_count": 84,
     "metadata": {},
     "output_type": "execute_result"
    }
   ],
   "source": [
    "nomes = data[(data.find('nomes')+7):data.find('}]')]\n",
    "nomes"
   ]
  },
  {
   "cell_type": "code",
   "execution_count": 71,
   "metadata": {},
   "outputs": [
    {
     "data": {
      "text/plain": [
       "re.compile(r'\\d+', re.UNICODE)"
      ]
     },
     "execution_count": 71,
     "metadata": {},
     "output_type": "execute_result"
    }
   ],
   "source": [
    "p = re.compile('\\d+')\n",
    "p"
   ]
  },
  {
   "cell_type": "code",
   "execution_count": 85,
   "metadata": {},
   "outputs": [
    {
     "name": "stdout",
     "output_type": "stream",
     "text": [
      "Nomes semelhantes: \"ALEVI,ALEVIR,ELEVI,ELEVIR,LEVIR,LEVY,LEVYR,OLEVI,OLEVIR\"\n",
      "Quantidade de pessoas com esse nome resgistradas: 35145\n"
     ]
    }
   ],
   "source": [
    "frequencia = p.findall(data)[1]\n",
    "print ('Nomes semelhantes: %s'%(nomes))\n",
    "print ('Quantidade de pessoas com esse nome resgistradas: %s'%(frequencia))"
   ]
  },
  {
   "cell_type": "code",
   "execution_count": null,
   "metadata": {},
   "outputs": [],
   "source": []
  }
 ],
 "metadata": {
  "kernelspec": {
   "display_name": "Python 3",
   "language": "python",
   "name": "python3"
  },
  "language_info": {
   "codemirror_mode": {
    "name": "ipython",
    "version": 3
   },
   "file_extension": ".py",
   "mimetype": "text/x-python",
   "name": "python",
   "nbconvert_exporter": "python",
   "pygments_lexer": "ipython3",
   "version": "3.5.4"
  }
 },
 "nbformat": 4,
 "nbformat_minor": 2
}
