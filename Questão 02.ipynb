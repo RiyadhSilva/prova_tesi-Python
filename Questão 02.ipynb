{
 "cells": [
  {
   "cell_type": "code",
   "execution_count": 2,
   "metadata": {},
   "outputs": [],
   "source": [
    "import requests\n",
    "from bs4 import BeautifulSoup"
   ]
  },
  {
   "cell_type": "code",
   "execution_count": 3,
   "metadata": {},
   "outputs": [],
   "source": [
    "def download(url, num_retries=2):\n",
    "    print('Downloading:', url)\n",
    "    page = None\n",
    "    try:\n",
    "        response = requests.get(url)\n",
    "        page = response.text\n",
    "        if response.status_code >= 400:\n",
    "            print('Download error: ', response.text)\n",
    "            return download(url, num_retries - 1)\n",
    "    except requests.exceptions.RequestException as e:\n",
    "        print('Download error: ', e.reason)\n",
    "    return page"
   ]
  },
  {
   "cell_type": "code",
   "execution_count": 5,
   "metadata": {},
   "outputs": [
    {
     "name": "stdout",
     "output_type": "stream",
     "text": [
      "Downloading: http://www.portaldatransparencia.gov.br/cnep/\n"
     ]
    }
   ],
   "source": [
    "page = download('http://www.portaldatransparencia.gov.br/cnep/')"
   ]
  },
  {
   "cell_type": "code",
   "execution_count": 8,
   "metadata": {},
   "outputs": [],
   "source": [
    "soup = BeautifulSoup(page, 'html.parser')"
   ]
  },
  {
   "cell_type": "code",
   "execution_count": 51,
   "metadata": {},
   "outputs": [
    {
     "name": "stdout",
     "output_type": "stream",
     "text": [
      "Insira o estado ex PI para Piaui: sp\n"
     ]
    }
   ],
   "source": [
    "estado = input('Insira o estado ex PI para Piaui: ').upper()"
   ]
  },
  {
   "cell_type": "code",
   "execution_count": 52,
   "metadata": {},
   "outputs": [
    {
     "data": {
      "text/plain": [
       "'SP'"
      ]
     },
     "execution_count": 52,
     "metadata": {},
     "output_type": "execute_result"
    }
   ],
   "source": [
    "estado"
   ]
  },
  {
   "cell_type": "code",
   "execution_count": 32,
   "metadata": {},
   "outputs": [
    {
     "data": {
      "text/plain": [
       "2"
      ]
     },
     "execution_count": 32,
     "metadata": {},
     "output_type": "execute_result"
    }
   ],
   "source": [
    "tabelas = soup.findAll('table')\n",
    "len(tabelas)"
   ]
  },
  {
   "cell_type": "code",
   "execution_count": 33,
   "metadata": {},
   "outputs": [],
   "source": [
    "tabela = tabelas[1]"
   ]
  },
  {
   "cell_type": "code",
   "execution_count": 149,
   "metadata": {},
   "outputs": [],
   "source": [
    "ocorrencia = tabela.findAll(text = estado)\n",
    "    "
   ]
  },
  {
   "cell_type": "code",
   "execution_count": 155,
   "metadata": {},
   "outputs": [
    {
     "name": "stdout",
     "output_type": "stream",
     "text": [
      "Nome das empresas multadas para o estado SP\n",
      " GRAFTEC GRAFICA E EDITORA LTDA - EPP  \n",
      " GRAFTEC GRAFICA E EDITORA LTDA - EPP  \n",
      " REDE SEG GRAFICA E EDITORA EIRELI - EPP  \n",
      " REDE SEG GRAFICA E EDITORA EIRELI - EPP  \n"
     ]
    }
   ],
   "source": [
    "print('Nome das empresas multadas para o estado %s'%(estado))\n",
    "for o in ocorrencia:\n",
    "    nome = o.parent.parent.findAll('td')[1]\n",
    "    print(nome.get_text())"
   ]
  }
 ],
 "metadata": {
  "kernelspec": {
   "display_name": "Python 3",
   "language": "python",
   "name": "python3"
  },
  "language_info": {
   "codemirror_mode": {
    "name": "ipython",
    "version": 3
   },
   "file_extension": ".py",
   "mimetype": "text/x-python",
   "name": "python",
   "nbconvert_exporter": "python",
   "pygments_lexer": "ipython3",
   "version": "3.5.4"
  }
 },
 "nbformat": 4,
 "nbformat_minor": 2
}
