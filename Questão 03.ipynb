{
 "cells": [
  {
   "cell_type": "code",
   "execution_count": 1,
   "metadata": {},
   "outputs": [],
   "source": [
    "# O título da matéria\n",
    "# O Link da matéria\n",
    "# Acesse o link da matéria e baixe as 'tags'"
   ]
  },
  {
   "cell_type": "code",
   "execution_count": 2,
   "metadata": {},
   "outputs": [],
   "source": [
    "import requests\n",
    "from bs4 import BeautifulSoup"
   ]
  },
  {
   "cell_type": "code",
   "execution_count": 3,
   "metadata": {},
   "outputs": [],
   "source": [
    "def download(url, num_retries=2):\n",
    "    print('Downloading:', url)\n",
    "    page = None\n",
    "    try:\n",
    "        response = requests.get(url)\n",
    "        page = response.text\n",
    "        if response.status_code >= 400:\n",
    "            print('Download error: ', response.text)\n",
    "            return download(url, num_retries - 1)\n",
    "    except requests.exceptions.RequestException as e:\n",
    "        print('Download error: ', e.reason)\n",
    "    return page"
   ]
  },
  {
   "cell_type": "code",
   "execution_count": 4,
   "metadata": {},
   "outputs": [
    {
     "name": "stdout",
     "output_type": "stream",
     "text": [
      "Downloading: http://www.pi.gov.br\n"
     ]
    }
   ],
   "source": [
    "page = download('http://www.pi.gov.br')"
   ]
  },
  {
   "cell_type": "code",
   "execution_count": 5,
   "metadata": {},
   "outputs": [],
   "source": [
    "soup = BeautifulSoup(page, 'html.parser')"
   ]
  },
  {
   "cell_type": "code",
   "execution_count": 11,
   "metadata": {},
   "outputs": [
    {
     "name": "stdout",
     "output_type": "stream",
     "text": [
      "Título das matérias:\n",
      "\n",
      "Wellington Dias participa de evento que irá discutir ações de desenvolvimento para o Nordeste\n",
      "\n",
      "Seminário discute saúde indígena no Piauí\n",
      "\n",
      "Sefaz divulga lista de ganhadores do 27º sorteio da Nota Piauiense\n",
      "\n",
      "Minha Casa Legal atende mutuários do Mocambinho nesta terça (5) e quarta (6)\n",
      "\n",
      "Mais de 900 candidatos fazem as provas do XVII Teste Seletivo para Estagiários da DPE\n",
      "\n"
     ]
    }
   ],
   "source": [
    "print('Título das matérias:'+'\\n')\n",
    "materias = soup.findAll('h4')\n",
    "for materia in materias:\n",
    "    print(materia.get_text()+'\\n')"
   ]
  },
  {
   "cell_type": "code",
   "execution_count": 34,
   "metadata": {},
   "outputs": [
    {
     "name": "stdout",
     "output_type": "stream",
     "text": [
      "Links para as matérias:\n",
      "\n",
      "\n",
      "\n",
      "/materia/economia/wellington-dias-participa-de-evento-em-fortaleza-que-ira-discutir-acoes-de-desenvolvimento-para-o-ne-4070.html\n",
      "\n",
      "\n",
      "/materia/saude/seminario-discute-saude-indigena-no-piaui-4059.html\n",
      "\n",
      "\n",
      "/materia/sefaz/confira-a-lista-dos-ganhadores-do-27o-sorteio-da-nota-piauiense-4054.html\n",
      "\n",
      "\n",
      "/materia/emgerpi/minha-casa-legal-mutuarios-do-mocambinho-receberao-atendimento-itinerante-4053.html\n",
      "\n",
      "\n",
      "/materia/defensoria/provas-do-xvii-teste-seletivo-para-estagiarios-de-direito-da-dpe-pi-foram-realizadas-dentro-da-normalidade-4066.html\n"
     ]
    }
   ],
   "source": [
    "print('Links para as matérias:'+'\\n')\n",
    "links = soup.findAll('div', {'class':'post_text'})\n",
    "count = 0\n",
    "for link in links:\n",
    "    if count < 5:\n",
    "        print('\\n')\n",
    "        print(link.find('a').attrs['href'])\n",
    "        count+=1\n",
    "    else:\n",
    "        break"
   ]
  },
  {
   "cell_type": "code",
   "execution_count": 37,
   "metadata": {},
   "outputs": [
    {
     "name": "stdout",
     "output_type": "stream",
     "text": [
      "/materia/economia/wellington-dias-participa-de-evento-em-fortaleza-que-ira-discutir-acoes-de-desenvolvimento-para-o-ne-4070.html\n",
      "Downloading: http://www.pi.gov.br/materia/economia/wellington-dias-participa-de-evento-em-fortaleza-que-ira-discutir-acoes-de-desenvolvimento-para-o-ne-4070.html\n",
      "desenvolvimento\n",
      "economia\n",
      "encontro\n",
      "nordeste\n",
      "\n",
      "\n",
      "/materia/saude/seminario-discute-saude-indigena-no-piaui-4059.html\n",
      "Downloading: http://www.pi.gov.br/materia/saude/seminario-discute-saude-indigena-no-piaui-4059.html\n",
      "indio\n",
      "piaui\n",
      "saúde\n",
      "seminario\n",
      "\n",
      "\n",
      "/materia/sefaz/confira-a-lista-dos-ganhadores-do-27o-sorteio-da-nota-piauiense-4054.html\n",
      "Downloading: http://www.pi.gov.br/materia/sefaz/confira-a-lista-dos-ganhadores-do-27o-sorteio-da-nota-piauiense-4054.html\n",
      "ganhadores\n",
      "lista\n",
      "notapiauiense\n",
      "\n",
      "\n",
      "/materia/emgerpi/minha-casa-legal-mutuarios-do-mocambinho-receberao-atendimento-itinerante-4053.html\n",
      "Downloading: http://www.pi.gov.br/materia/emgerpi/minha-casa-legal-mutuarios-do-mocambinho-receberao-atendimento-itinerante-4053.html\n",
      "emgerpi\n",
      "habitação\n",
      "minhacasalegal\n",
      "mocambinho\n",
      "\n",
      "\n",
      "/materia/defensoria/provas-do-xvii-teste-seletivo-para-estagiarios-de-direito-da-dpe-pi-foram-realizadas-dentro-da-normalidade-4066.html\n",
      "Downloading: http://www.pi.gov.br/materia/defensoria/provas-do-xvii-teste-seletivo-para-estagiarios-de-direito-da-dpe-pi-foram-realizadas-dentro-da-normalidade-4066.html\n",
      "\n",
      "\n"
     ]
    }
   ],
   "source": [
    "# tags de cada matéria\n",
    "count = 0\n",
    "for link in links:\n",
    "    if count < 5:\n",
    "        print(link.find('a').attrs['href'])\n",
    "        link_materia = link.find('a').attrs['href']\n",
    "        html = download('http://www.pi.gov.br'+link_materia)\n",
    "        soup = BeautifulSoup(html, 'html.parser')\n",
    "        tags = soup.findAll('a', {'class':'btn-tags'})\n",
    "        for tag in tags:\n",
    "            print(tag.get_text())\n",
    "        count+=1\n",
    "        print('\\n')\n",
    "    else:\n",
    "        break"
   ]
  },
  {
   "cell_type": "code",
   "execution_count": null,
   "metadata": {},
   "outputs": [],
   "source": []
  }
 ],
 "metadata": {
  "kernelspec": {
   "display_name": "Python 3",
   "language": "python",
   "name": "python3"
  },
  "language_info": {
   "codemirror_mode": {
    "name": "ipython",
    "version": 3
   },
   "file_extension": ".py",
   "mimetype": "text/x-python",
   "name": "python",
   "nbconvert_exporter": "python",
   "pygments_lexer": "ipython3",
   "version": "3.5.4"
  }
 },
 "nbformat": 4,
 "nbformat_minor": 2
}
